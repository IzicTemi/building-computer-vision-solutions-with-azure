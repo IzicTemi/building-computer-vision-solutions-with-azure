{
 "cells": [
  {
   "cell_type": "markdown",
   "metadata": {},
   "source": [
    "### Please install the required Python modules/SDKs"
   ]
  },
  {
   "cell_type": "code",
   "execution_count": null,
   "metadata": {},
   "outputs": [],
   "source": [
    "! activate ai-azure-c1\n",
    "\n",
    "import sys\n",
    "\n",
    "sys.path.append(\"/opt/conda/envs/ai-azure-c1/lib/python3.8/site-packages\")"
   ]
  },
  {
   "cell_type": "markdown",
   "metadata": {},
   "source": [
    "## Importing Azure Form Recognizer python modules"
   ]
  },
  {
   "cell_type": "code",
   "execution_count": null,
   "metadata": {},
   "outputs": [],
   "source": [
    "from azure.core.credentials import AzureKeyCredential\n",
    "from azure.ai.formrecognizer import FormRecognizerClient"
   ]
  },
  {
   "cell_type": "code",
   "execution_count": null,
   "metadata": {},
   "outputs": [],
   "source": [
    "AZURE_FORM_RECOGNIZER_ENDPOINT = \"ENTER FORM RECOGNIZER ENDPOINT\"\n",
    "AZURE_FORM_RECOGNIZER_KEY = \"ENTER FORM RECOGNIZER KEY\""
   ]
  },
  {
   "cell_type": "code",
   "execution_count": null,
   "metadata": {},
   "outputs": [],
   "source": [
    "endpoint = AZURE_FORM_RECOGNIZER_ENDPOINT\n",
    "key = AZURE_FORM_RECOGNIZER_KEY"
   ]
  },
  {
   "cell_type": "code",
   "execution_count": null,
   "metadata": {},
   "outputs": [],
   "source": [
    "form_recognizer_client = FormRecognizerClient(endpoint=endpoint, credential=AzureKeyCredential(key))"
   ]
  },
  {
   "cell_type": "markdown",
   "metadata": {},
   "source": [
    "## Source Document"
   ]
  },
  {
   "cell_type": "code",
   "execution_count": null,
   "metadata": {},
   "outputs": [],
   "source": [
    "content_url = \"https://raw.githubusercontent.com/udacity/cd0461-building-computer-vision-solutions-with-azure-exercises/main/resources/invoice-2.png\""
   ]
  },
  {
   "cell_type": "code",
   "execution_count": null,
   "metadata": {},
   "outputs": [],
   "source": [
    "invoices_from_url = form_recognizer_client.begin_recognize_invoices_from_url(content_url)"
   ]
  },
  {
   "cell_type": "markdown",
   "metadata": {},
   "source": [
    "### Optional Step: Use the following if your source document is located the local disk\n",
    "form_recognizer_client.begin_recognize_invoices()"
   ]
  },
  {
   "cell_type": "code",
   "execution_count": null,
   "metadata": {},
   "outputs": [],
   "source": [
    "collected_invoices = invoices_from_url.result()"
   ]
  },
  {
   "cell_type": "code",
   "execution_count": null,
   "metadata": {},
   "outputs": [],
   "source": [
    "collected_invoices"
   ]
  },
  {
   "cell_type": "code",
   "execution_count": null,
   "metadata": {},
   "outputs": [],
   "source": [
    "len(collected_invoices)"
   ]
  },
  {
   "cell_type": "code",
   "execution_count": null,
   "metadata": {},
   "outputs": [],
   "source": [
    "type(collected_invoices[0])"
   ]
  },
  {
   "cell_type": "markdown",
   "metadata": {},
   "source": [
    "### Processing result"
   ]
  },
  {
   "cell_type": "code",
   "execution_count": null,
   "metadata": {},
   "outputs": [],
   "source": [
    "def get_invoice_details(invoice):\n",
    "    vendor_name = invoice.fields.get(\"VendorName\")\n",
    "    if vendor_name:\n",
    "        print(\"Vendor Name: {} has confidence: {}\".format(vendor_name.value, vendor_name.confidence))\n",
    "    vendor_address = invoice.fields.get(\"VendorAddress\")\n",
    "    if vendor_address:\n",
    "        print(\"Vendor Address: {} has confidence: {}\".format(vendor_address.value, vendor_address.confidence))\n",
    "    vendor_address_recipient = invoice.fields.get(\"VendorAddressRecipient\")\n",
    "    if vendor_address_recipient:\n",
    "        print(\"Vendor Address Recipient: {} has confidence: {}\".format(vendor_address_recipient.value, vendor_address_recipient.confidence))\n",
    "    customer_name = invoice.fields.get(\"CustomerName\")\n",
    "    if customer_name:\n",
    "        print(\"Customer Name: {} has confidence: {}\".format(customer_name.value, customer_name.confidence))\n",
    "    customer_id = invoice.fields.get(\"CustomerId\")\n",
    "    if customer_id:\n",
    "        print(\"Customer Id: {} has confidence: {}\".format(customer_id.value, customer_id.confidence))\n",
    "    customer_address = invoice.fields.get(\"CustomerAddress\")\n",
    "    if customer_address:\n",
    "        print(\"Customer Address: {} has confidence: {}\".format(customer_address.value, customer_address.confidence))\n",
    "    customer_address_recipient = invoice.fields.get(\"CustomerAddressRecipient\")\n",
    "    if customer_address_recipient:\n",
    "        print(\"Customer Address Recipient: {} has confidence: {}\".format(customer_address_recipient.value, customer_address_recipient.confidence))\n",
    "    invoice_id = invoice.fields.get(\"InvoiceId\")\n",
    "    if invoice_id:\n",
    "        print(\"Invoice Id: {} has confidence: {}\".format(invoice_id.value, invoice_id.confidence))\n",
    "    invoice_date = invoice.fields.get(\"InvoiceDate\")\n",
    "    if invoice_date:\n",
    "        print(\"Invoice Date: {} has confidence: {}\".format(invoice_date.value, invoice_date.confidence))\n",
    "    invoice_total = invoice.fields.get(\"InvoiceTotal\")\n",
    "    if invoice_total:\n",
    "        print(\"Invoice Total: {} has confidence: {}\".format(invoice_total.value, invoice_total.confidence))\n",
    "    due_date = invoice.fields.get(\"DueDate\")\n",
    "    if due_date:\n",
    "        print(\"Due Date: {} has confidence: {}\".format(due_date.value, due_date.confidence))\n",
    "    purchase_order = invoice.fields.get(\"PurchaseOrder\")\n",
    "    if purchase_order:\n",
    "        print(\"Purchase Order: {} has confidence: {}\".format(purchase_order.value, purchase_order.confidence))\n",
    "    billing_address = invoice.fields.get(\"BillingAddress\")\n",
    "    if billing_address:\n",
    "        print(\"Billing Address: {} has confidence: {}\".format(billing_address.value, billing_address.confidence))\n",
    "    billing_address_recipient = invoice.fields.get(\"BillingAddressRecipient\")\n",
    "    if billing_address_recipient:\n",
    "        print(\"Billing Address Recipient: {} has confidence: {}\".format(billing_address_recipient.value, billing_address_recipient.confidence))\n",
    "    shipping_address = invoice.fields.get(\"ShippingAddress\")\n",
    "    if shipping_address:\n",
    "        print(\"Shipping Address: {} has confidence: {}\".format(shipping_address.value, shipping_address.confidence))\n",
    "    shipping_address_recipient = invoice.fields.get(\"ShippingAddressRecipient\")\n",
    "    if shipping_address_recipient:\n",
    "        print(\"Shipping Address Recipient: {} has confidence: {}\".format(shipping_address_recipient.value, shipping_address_recipient.confidence))\n",
    "    print(\"Invoice items:\")\n",
    "    for idx, item in enumerate(invoice.fields.get(\"Items\").value):\n",
    "        print(\"...Item #{}\".format(idx+1))\n",
    "        item_description = item.value.get(\"Description\")\n",
    "        if item_description:\n",
    "            print(\"......Description: {} has confidence: {}\".format(item_description.value, item_description.confidence))\n",
    "        item_quantity = item.value.get(\"Quantity\")\n",
    "        if item_quantity:\n",
    "            print(\"......Quantity: {} has confidence: {}\".format(item_quantity.value, item_quantity.confidence))\n",
    "        unit = item.value.get(\"Unit\")\n",
    "        if unit:\n",
    "            print(\"......Unit: {} has confidence: {}\".format(unit.value, unit.confidence))\n",
    "        unit_price = item.value.get(\"UnitPrice\")\n",
    "        if unit_price:\n",
    "            print(\"......Unit Price: {} has confidence: {}\".format(unit_price.value, unit_price.confidence))\n",
    "        product_code = item.value.get(\"ProductCode\")\n",
    "        if product_code:\n",
    "            print(\"......Product Code: {} has confidence: {}\".format(product_code.value, product_code.confidence))\n",
    "        item_date = item.value.get(\"Date\")\n",
    "        if item_date:\n",
    "            print(\"......Date: {} has confidence: {}\".format(item_date.value, item_date.confidence))\n",
    "        tax = item.value.get(\"Tax\")\n",
    "        if tax:\n",
    "            print(\"......Tax: {} has confidence: {}\".format(tax.value, tax.confidence))\n",
    "        amount = item.value.get(\"Amount\")\n",
    "        if amount:\n",
    "            print(\"......Amount: {} has confidence: {}\".format(amount.value, amount.confidence))\n",
    "    subtotal = invoice.fields.get(\"SubTotal\")\n",
    "    if subtotal:\n",
    "        print(\"Subtotal: {} has confidence: {}\".format(subtotal.value, subtotal.confidence))\n",
    "    total_tax = invoice.fields.get(\"TotalTax\")\n",
    "    if total_tax:\n",
    "        print(\"Total Tax: {} has confidence: {}\".format(total_tax.value, total_tax.confidence))\n",
    "    previous_unpaid_balance = invoice.fields.get(\"PreviousUnpaidBalance\")\n",
    "    if previous_unpaid_balance:\n",
    "        print(\"Previous Unpaid Balance: {} has confidence: {}\".format(previous_unpaid_balance.value, previous_unpaid_balance.confidence))\n",
    "    amount_due = invoice.fields.get(\"AmountDue\")\n",
    "    if amount_due:\n",
    "        print(\"Amount Due: {} has confidence: {}\".format(amount_due.value, amount_due.confidence))\n",
    "    service_start_date = invoice.fields.get(\"ServiceStartDate\")\n",
    "    if service_start_date:\n",
    "        print(\"Service Start Date: {} has confidence: {}\".format(service_start_date.value, service_start_date.confidence))\n",
    "    service_end_date = invoice.fields.get(\"ServiceEndDate\")\n",
    "    if service_end_date:\n",
    "        print(\"Service End Date: {} has confidence: {}\".format(service_end_date.value, service_end_date.confidence))\n",
    "    service_address = invoice.fields.get(\"ServiceAddress\")\n",
    "    if service_address:\n",
    "        print(\"Service Address: {} has confidence: {}\".format(service_address.value, service_address.confidence))\n",
    "    service_address_recipient = invoice.fields.get(\"ServiceAddressRecipient\")\n",
    "    if service_address_recipient:\n",
    "        print(\"Service Address Recipient: {} has confidence: {}\".format(service_address_recipient.value, service_address_recipient.confidence))\n",
    "    remittance_address = invoice.fields.get(\"RemittanceAddress\")\n",
    "    if remittance_address:\n",
    "        print(\"Remittance Address: {} has confidence: {}\".format(remittance_address.value, remittance_address.confidence))\n",
    "    remittance_address_recipient = invoice.fields.get(\"RemittanceAddressRecipient\")\n",
    "    if remittance_address_recipient:\n",
    "        print(\"Remittance Address Recipient: {} has confidence: {}\".format(remittance_address_recipient.value, remittance_address_recipient.confidence))"
   ]
  },
  {
   "cell_type": "code",
   "execution_count": null,
   "metadata": {},
   "outputs": [],
   "source": [
    "get_invoice_details(collected_invoices[0])"
   ]
  },
  {
   "cell_type": "code",
   "execution_count": null,
   "metadata": {},
   "outputs": [],
   "source": [
    "for index_id, invoice in enumerate(collected_invoices):\n",
    "    print(\"Displaying Invoice details ....... # {}\".format(index_id+1))\n",
    "    get_invoice_details(invoice)\n",
    "    print(\"---------------- EOL -------------------------\")"
   ]
  },
  {
   "cell_type": "code",
   "execution_count": null,
   "metadata": {},
   "outputs": [],
   "source": []
  }
 ],
 "metadata": {
  "kernelspec": {
   "display_name": "Python 3",
   "language": "python",
   "name": "python3"
  },
  "language_info": {
   "codemirror_mode": {
    "name": "ipython",
    "version": 3
   },
   "file_extension": ".py",
   "mimetype": "text/x-python",
   "name": "python",
   "nbconvert_exporter": "python",
   "pygments_lexer": "ipython3",
   "version": "3.6.3"
  }
 },
 "nbformat": 4,
 "nbformat_minor": 4
}
