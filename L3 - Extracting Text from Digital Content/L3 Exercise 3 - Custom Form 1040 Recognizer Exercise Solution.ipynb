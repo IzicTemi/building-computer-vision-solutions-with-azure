{
 "cells": [
  {
   "cell_type": "markdown",
   "metadata": {},
   "source": [
    "### Please install the required Python modules/SDKs"
   ]
  },
  {
   "cell_type": "code",
   "execution_count": null,
   "metadata": {},
   "outputs": [],
   "source": [
    "! activate ai-azure-c1\n",
    "\n",
    "import sys\n",
    "\n",
    "sys.path.append(\"/opt/conda/envs/ai-azure-c1/lib/python3.8/site-packages\")"
   ]
  },
  {
   "cell_type": "markdown",
   "metadata": {},
   "source": [
    "## Importing Azure Form Recognizer python modules"
   ]
  },
  {
   "cell_type": "code",
   "execution_count": null,
   "metadata": {},
   "outputs": [],
   "source": [
    "import os\n",
    "from azure.core.exceptions import ResourceNotFoundError\n",
    "from azure.ai.formrecognizer import FormRecognizerClient\n",
    "from azure.ai.formrecognizer import FormTrainingClient\n",
    "from azure.core.credentials import AzureKeyCredential"
   ]
  },
  {
   "cell_type": "code",
   "execution_count": null,
   "metadata": {},
   "outputs": [],
   "source": [
    "AZURE_FORM_RECOGNIZER_ENDPOINT = \"ENTER FORM RECOGNIZER ENDPOINT\"\n",
    "AZURE_FORM_RECOGNIZER_KEY = \"ENTER FORM RECOGNIZER KEY\""
   ]
  },
  {
   "cell_type": "code",
   "execution_count": null,
   "metadata": {},
   "outputs": [],
   "source": [
    "endpoint = AZURE_FORM_RECOGNIZER_ENDPOINT\n",
    "key = AZURE_FORM_RECOGNIZER_KEY"
   ]
  },
  {
   "cell_type": "code",
   "execution_count": null,
   "metadata": {},
   "outputs": [],
   "source": [
    "form_training_client = FormTrainingClient(endpoint=endpoint, credential=AzureKeyCredential(key))"
   ]
  },
  {
   "cell_type": "code",
   "execution_count": null,
   "metadata": {},
   "outputs": [],
   "source": [
    "saved_model_list = form_training_client.list_custom_models()"
   ]
  },
  {
   "cell_type": "markdown",
   "metadata": {},
   "source": [
    "## Training Source Data URL"
   ]
  },
  {
   "cell_type": "markdown",
   "metadata": {},
   "source": [
    "### Get training documents for this demo from the link below\n",
    "- To test solution code, download the training documents to your local system: https://github.com/udacity/cd0461-building-computer-vision-solutions-with-azure-exercises/tree/main/resources/1040docs-solution\n",
    "- Upload training documents `f1040-001.pdf` through `f1040-006.pdf`, together with their `labels.json` files, to a blob container at Azure Blob Storage.\n",
    "- Generate the SAS URL of this training data container. At the bottom of this page, you can see how you can generate SAS url for your training data blob container.\n",
    "- At Form Recognizer portal, create a new project and connect it to this blob container. \n",
    "- Since the documents are aleady labeled, all you need to do is to run layout on them at the Form Recognizer portal and have the `ocr.json` files auto-generated in the blob container. \n"
   ]
  },
  {
   "cell_type": "code",
   "execution_count": null,
   "metadata": {},
   "outputs": [],
   "source": [
    "trainingDataUrl = \"ADD YOUR BLOB STORAGE SAS URL HERE\""
   ]
  },
  {
   "cell_type": "markdown",
   "metadata": {},
   "source": [
    "## Performing Labeled Traning\n",
    "### use_training_labels=True\n",
    "* You need at least 5 labeled documents with the `ocr.json` and `labels.json` files; otherwise, you will run into errors."
   ]
  },
  {
   "cell_type": "code",
   "execution_count": null,
   "metadata": {},
   "outputs": [],
   "source": [
    "training_process = form_training_client.begin_training(trainingDataUrl, use_training_labels=True)\n",
    "custom_model = training_process.result()"
   ]
  },
  {
   "cell_type": "markdown",
   "metadata": {},
   "source": [
    "## Getting Model Info"
   ]
  },
  {
   "cell_type": "code",
   "execution_count": null,
   "metadata": {},
   "outputs": [],
   "source": [
    "custom_model"
   ]
  },
  {
   "cell_type": "code",
   "execution_count": null,
   "metadata": {},
   "outputs": [],
   "source": [
    "custom_model.model_id"
   ]
  },
  {
   "cell_type": "code",
   "execution_count": null,
   "metadata": {},
   "outputs": [],
   "source": [
    "custom_model.status"
   ]
  },
  {
   "cell_type": "code",
   "execution_count": null,
   "metadata": {},
   "outputs": [],
   "source": [
    "custom_model.training_started_on"
   ]
  },
  {
   "cell_type": "code",
   "execution_count": null,
   "metadata": {},
   "outputs": [],
   "source": [
    "custom_model.training_completed_on"
   ]
  },
  {
   "cell_type": "code",
   "execution_count": null,
   "metadata": {},
   "outputs": [],
   "source": [
    "custom_model.training_documents"
   ]
  },
  {
   "cell_type": "code",
   "execution_count": null,
   "metadata": {},
   "outputs": [],
   "source": [
    "for doc in custom_model.training_documents:\n",
    "    print(\"Document name: {}\".format(doc.name))\n",
    "    print(\"Document status: {}\".format(doc.status))\n",
    "    print(\"Document page count: {}\".format(doc.page_count))\n",
    "    print(\"Document errors: {}\".format(doc.errors))"
   ]
  },
  {
   "cell_type": "code",
   "execution_count": null,
   "metadata": {},
   "outputs": [],
   "source": [
    "custom_model.properties"
   ]
  },
  {
   "cell_type": "code",
   "execution_count": null,
   "metadata": {},
   "outputs": [],
   "source": [
    "custom_model.submodels"
   ]
  },
  {
   "cell_type": "code",
   "execution_count": null,
   "metadata": {},
   "outputs": [],
   "source": [
    "for submodel in custom_model.submodels:\n",
    "    print(\n",
    "        \"The submodel with form type '{}' has recognized the following fields: {}\".format(\n",
    "            submodel.form_type,\n",
    "            \", \".join(\n",
    "                [\n",
    "                    field.label if field.label else name\n",
    "                    for name, field in submodel.fields.items()\n",
    "                ]\n",
    "            ),\n",
    "        )\n",
    "    )"
   ]
  },
  {
   "cell_type": "code",
   "execution_count": null,
   "metadata": {},
   "outputs": [],
   "source": [
    "custom_model.model_id"
   ]
  },
  {
   "cell_type": "code",
   "execution_count": null,
   "metadata": {},
   "outputs": [],
   "source": [
    "custom_model_info = form_training_client.get_custom_model(model_id=custom_model.model_id)\n",
    "print(\"Model ID: {}\".format(custom_model_info.model_id))\n",
    "print(\"Status: {}\".format(custom_model_info.status))\n",
    "print(\"Training started on: {}\".format(custom_model_info.training_started_on))\n",
    "print(\"Training completed on: {}\".format(custom_model_info.training_completed_on))"
   ]
  },
  {
   "cell_type": "markdown",
   "metadata": {},
   "source": [
    "## Using an Image/PDF document as test document URL (PDF in this example)\n",
    "## Save PDF to a blob container and use SAS URL of the test PDF document as target url"
   ]
  },
  {
   "cell_type": "markdown",
   "metadata": {},
   "source": [
    "### Sample Test Documents:\n",
    "- You could use one or more of these documents to perform testing/prediction. Note the test document should **not** be used in the training.\n",
    "    - https://github.com/udacity/cd0461-building-computer-vision-solutions-with-azure-exercises/blob/main/resources/1040docs-solution/f1040-007.pdf\n",
    "    - https://github.com/udacity/cd0461-building-computer-vision-solutions-with-azure-exercises/blob/main/resources/1040docs-solution/f1040-008.pdf\n",
    "    - https://github.com/udacity/cd0461-building-computer-vision-solutions-with-azure-exercises/blob/main/resources/1040docs-solution/f1040-009.pdf\n",
    "\n",
    "1. Please download and save the above files locally, and then upload to your Azure blob container. \n",
    "2. After that, please create Azure SAS URL with only **READ access** to use below in the test process with the model.\n",
    "\n",
    "At the bottom of this page, you can see how you can generate SAS URL for your test PDF document."
   ]
  },
  {
   "cell_type": "code",
   "execution_count": null,
   "metadata": {},
   "outputs": [],
   "source": [
    "new_test_url = \"USE Azure BLOB SAS URL of test document here\""
   ]
  },
  {
   "cell_type": "code",
   "execution_count": null,
   "metadata": {},
   "outputs": [],
   "source": [
    "new_test_url"
   ]
  },
  {
   "cell_type": "code",
   "execution_count": null,
   "metadata": {},
   "outputs": [],
   "source": [
    "form_recognizer_client = FormRecognizerClient(endpoint=endpoint, credential=AzureKeyCredential(key))"
   ]
  },
  {
   "cell_type": "code",
   "execution_count": null,
   "metadata": {},
   "outputs": [],
   "source": [
    "custom_model.model_id"
   ]
  },
  {
   "cell_type": "code",
   "execution_count": null,
   "metadata": {},
   "outputs": [],
   "source": [
    "custom_model_info.model_id"
   ]
  },
  {
   "cell_type": "code",
   "execution_count": null,
   "metadata": {},
   "outputs": [],
   "source": [
    "custom_test_action = form_recognizer_client.begin_recognize_custom_forms_from_url(model_id=custom_model_info.model_id, form_url=new_test_url)"
   ]
  },
  {
   "cell_type": "code",
   "execution_count": null,
   "metadata": {},
   "outputs": [],
   "source": [
    "custom_test_action.result"
   ]
  },
  {
   "cell_type": "code",
   "execution_count": null,
   "metadata": {},
   "outputs": [],
   "source": [
    "custom_test_action.status()"
   ]
  },
  {
   "cell_type": "code",
   "execution_count": null,
   "metadata": {},
   "outputs": [],
   "source": [
    "custom_test_action_result = custom_test_action.result()"
   ]
  },
  {
   "cell_type": "code",
   "execution_count": null,
   "metadata": {},
   "outputs": [],
   "source": [
    "for recognized_content in custom_test_action_result:\n",
    "    print(\"Form type: {}\".format(recognized_content.form_type))\n",
    "    for name, field in recognized_content.fields.items():\n",
    "        print(\"Field '{}' has label '{}' with value '{}' and a confidence score of {}\".format(\n",
    "            name,\n",
    "            field.label_data.text if field.label_data else name,\n",
    "            field.value,\n",
    "            field.confidence\n",
    "        ))"
   ]
  },
  {
   "cell_type": "markdown",
   "metadata": {},
   "source": [
    "### If all goes well your results should look like as below:\n",
    "- Form type: custom:9ca8996d-91d1-4b28-8bb9-b3ace2756dc2\n",
    "- Field 'Main SSN' has label 'Main SSN' with value '100 40 6000' and a confidence score of 0.99\n",
    "- Field 'Spouse SSN' has label 'Spouse SSN' with value '41. 9009' and a confidence score of 0.981\n",
    "- Field 'Main Presidential Campaign' has label 'Main Presidential Campaign' with value 'unselected' and a confidence score of 0.941\n",
    "- Field 'Spouse Presidential Campaign' has label 'Spouse Presidential Campaign' with value 'selected' and a confidence score of 0.992\n",
    "- Field 'Crypto Interest Yes' has label 'Crypto Interest Yes' with value 'selected' and a confidence score of 0.991\n",
    "- Field 'Spouse First Name' has label 'Spouse First Name' with value 'Joan' and a confidence score of 0.99\n",
    "- Field 'Spouse Last Name' has label 'Spouse Last Name' with value 'Madan' and a confidence score of 0.99\n",
    "- Field 'Crypto Interest No' has label 'Crypto Interest No' with value 'unselected' and a confidence score of 0.991\n",
    "- Field 'Main Last Name' has label 'Main Last Name' with value 'Baxter' and a confidence score of 0.99\n",
    "- Field 'Main First Name' has label 'Main First Name' with value 'Philppe' and a confidence score of 0.99"
   ]
  },
  {
   "cell_type": "code",
   "execution_count": null,
   "metadata": {},
   "outputs": [],
   "source": []
  }
 ],
 "metadata": {
  "kernelspec": {
   "display_name": "Python 3",
   "language": "python",
   "name": "python3"
  },
  "language_info": {
   "codemirror_mode": {
    "name": "ipython",
    "version": 3
   },
   "file_extension": ".py",
   "mimetype": "text/x-python",
   "name": "python",
   "nbconvert_exporter": "python",
   "pygments_lexer": "ipython3",
   "version": "3.6.3"
  }
 },
 "nbformat": 4,
 "nbformat_minor": 4
}
