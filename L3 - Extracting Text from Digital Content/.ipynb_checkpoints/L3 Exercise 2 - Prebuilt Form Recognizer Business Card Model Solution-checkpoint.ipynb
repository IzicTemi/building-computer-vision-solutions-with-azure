{
 "cells": [
  {
   "cell_type": "markdown",
   "metadata": {},
   "source": [
    "### Please install the required Python modules/SDKs"
   ]
  },
  {
   "cell_type": "code",
   "execution_count": null,
   "metadata": {},
   "outputs": [],
   "source": [
    "! activate ai-azure-c1\n",
    "\n",
    "import sys\n",
    "\n",
    "sys.path.append(\"/opt/conda/envs/ai-azure-c1/lib/python3.8/site-packages\")"
   ]
  },
  {
   "cell_type": "markdown",
   "metadata": {},
   "source": [
    "### This example is created to extract business card data using pre-built Azure Form Recognizer Python SDK\n",
    "\n"
   ]
  },
  {
   "cell_type": "code",
   "execution_count": null,
   "metadata": {},
   "outputs": [],
   "source": [
    "from azure.core.credentials import AzureKeyCredential\n",
    "from azure.ai.formrecognizer import FormRecognizerClient"
   ]
  },
  {
   "cell_type": "markdown",
   "metadata": {},
   "source": [
    "### Please use your own resource key and resource end point:"
   ]
  },
  {
   "cell_type": "code",
   "execution_count": null,
   "metadata": {},
   "outputs": [],
   "source": [
    "AZURE_FORM_RECOGNIZER_ENDPOINT = \"ENTER FORM RECOGNIZER ENDPOINT\"\n",
    "AZURE_FORM_RECOGNIZER_KEY = \"ENTER FORM RECOGNIZER KEY\""
   ]
  },
  {
   "cell_type": "code",
   "execution_count": null,
   "metadata": {},
   "outputs": [],
   "source": [
    "endpoint = AZURE_FORM_RECOGNIZER_ENDPOINT\n",
    "key = AZURE_FORM_RECOGNIZER_KEY"
   ]
  },
  {
   "cell_type": "code",
   "execution_count": null,
   "metadata": {},
   "outputs": [],
   "source": [
    "form_recognizer_client = FormRecognizerClient(endpoint=endpoint, credential=AzureKeyCredential(key))"
   ]
  },
  {
   "cell_type": "markdown",
   "metadata": {},
   "source": [
    "## URL Resource where business card is located"
   ]
  },
  {
   "cell_type": "code",
   "execution_count": null,
   "metadata": {},
   "outputs": [],
   "source": [
    "content_url = \"https://raw.githubusercontent.com/udacity/cd0461-building-computer-vision-solutions-with-azure-exercises/main/resources/avkash-bizcard.jpg\""
   ]
  },
  {
   "cell_type": "code",
   "execution_count": null,
   "metadata": {},
   "outputs": [],
   "source": [
    "biz_card_content_from_url = form_recognizer_client.begin_recognize_business_cards_from_url(content_url)"
   ]
  },
  {
   "cell_type": "markdown",
   "metadata": {},
   "source": [
    "## If you are going to use the business card files from local resources please use the following url:\n",
    "form_recognizer_client.begin_recognize_business_cards()"
   ]
  },
  {
   "cell_type": "code",
   "execution_count": null,
   "metadata": {},
   "outputs": [],
   "source": [
    "collected_biz_cards = biz_card_content_from_url.result()"
   ]
  },
  {
   "cell_type": "code",
   "execution_count": null,
   "metadata": {},
   "outputs": [],
   "source": [
    "collected_biz_cards"
   ]
  },
  {
   "cell_type": "code",
   "execution_count": null,
   "metadata": {},
   "outputs": [],
   "source": [
    "type(collected_biz_cards[0])"
   ]
  },
  {
   "cell_type": "markdown",
   "metadata": {},
   "source": [
    "### I have used the code snippet from the Azure SDK sample to process the JSON data received from the Azure form recognizer\n",
    "- https://github.com/Azure/azure-sdk-for-python/blob/main/sdk/formrecognizer/azure-ai-formrecognizer/samples/"
   ]
  },
  {
   "cell_type": "code",
   "execution_count": null,
   "metadata": {},
   "outputs": [],
   "source": [
    "def get_biz_card_details(business_card):\n",
    "    contact_names = business_card.fields.get(\"ContactNames\")\n",
    "    if contact_names:\n",
    "        for contact_name in contact_names.value:\n",
    "            print(\"Contact First Name: {} has confidence: {}\".format(\n",
    "                contact_name.value[\"FirstName\"].value, contact_name.value[\"FirstName\"].confidence\n",
    "            ))\n",
    "            print(\"Contact Last Name: {} has confidence: {}\".format(\n",
    "                contact_name.value[\"LastName\"].value, contact_name.value[\"LastName\"].confidence\n",
    "            ))\n",
    "    company_names = business_card.fields.get(\"CompanyNames\")\n",
    "    if company_names:\n",
    "        for company_name in company_names.value:\n",
    "            print(\"Company Name: {} has confidence: {}\".format(company_name.value, company_name.confidence))\n",
    "    departments = business_card.fields.get(\"Departments\")\n",
    "    if departments:\n",
    "        for department in departments.value:\n",
    "            print(\"Department: {} has confidence: {}\".format(department.value, department.confidence))\n",
    "    job_titles = business_card.fields.get(\"JobTitles\")\n",
    "    if job_titles:\n",
    "        for job_title in job_titles.value:\n",
    "            print(\"Job Title: {} has confidence: {}\".format(job_title.value, job_title.confidence))\n",
    "    emails = business_card.fields.get(\"Emails\")\n",
    "    if emails:\n",
    "        for email in emails.value:\n",
    "            print(\"Email: {} has confidence: {}\".format(email.value, email.confidence))\n",
    "    websites = business_card.fields.get(\"Websites\")\n",
    "    if websites:\n",
    "        for website in websites.value:\n",
    "            print(\"Website: {} has confidence: {}\".format(website.value, website.confidence))\n",
    "    addresses = business_card.fields.get(\"Addresses\")\n",
    "    if addresses:\n",
    "        for address in addresses.value:\n",
    "            print(\"Address: {} has confidence: {}\".format(address.value, address.confidence))\n",
    "    mobile_phones = business_card.fields.get(\"MobilePhones\")\n",
    "    if mobile_phones:\n",
    "        for phone in mobile_phones.value:\n",
    "            print(\"Mobile phone number: {} has confidence: {}\".format(phone.value, phone.confidence))\n",
    "    faxes = business_card.fields.get(\"Faxes\")\n",
    "    if faxes:\n",
    "        for fax in faxes.value:\n",
    "            print(\"Fax number: {} has confidence: {}\".format(fax.value, fax.confidence))\n",
    "    work_phones = business_card.fields.get(\"WorkPhones\")\n",
    "    if work_phones:\n",
    "        for work_phone in work_phones.value:\n",
    "            print(\"Work phone number: {} has confidence: {}\".format(work_phone.value, work_phone.confidence))\n",
    "    other_phones = business_card.fields.get(\"OtherPhones\")\n",
    "    if other_phones:\n",
    "        for other_phone in other_phones.value:\n",
    "            print(\"Other phone number: {} has confidence: {}\".format(other_phone.value, other_phone.confidence))"
   ]
  },
  {
   "cell_type": "code",
   "execution_count": null,
   "metadata": {},
   "outputs": [],
   "source": [
    "get_biz_card_details(collected_biz_cards[0])"
   ]
  },
  {
   "cell_type": "code",
   "execution_count": null,
   "metadata": {},
   "outputs": [],
   "source": [
    "for index_id, business_card in enumerate(collected_biz_cards):\n",
    "    print(\"Displaying business card details ....... # {}\".format(index_id+1))\n",
    "    get_biz_card_details(business_card)\n",
    "    print(\"---------------- EOL -------------------------\")"
   ]
  },
  {
   "cell_type": "code",
   "execution_count": null,
   "metadata": {},
   "outputs": [],
   "source": []
  }
 ],
 "metadata": {
  "kernelspec": {
   "display_name": "Python 3",
   "language": "python",
   "name": "python3"
  },
  "language_info": {
   "codemirror_mode": {
    "name": "ipython",
    "version": 3
   },
   "file_extension": ".py",
   "mimetype": "text/x-python",
   "name": "python",
   "nbconvert_exporter": "python",
   "pygments_lexer": "ipython3",
   "version": "3.6.3"
  }
 },
 "nbformat": 4,
 "nbformat_minor": 4
}
